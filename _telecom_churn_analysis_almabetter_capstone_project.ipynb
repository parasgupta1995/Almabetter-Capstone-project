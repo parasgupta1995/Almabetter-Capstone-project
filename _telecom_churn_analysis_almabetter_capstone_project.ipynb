{
  "nbformat": 4,
  "nbformat_minor": 0,
  "metadata": {
    "kernelspec": {
      "display_name": "Python 3",
      "language": "python",
      "name": "python3"
    },
    "language_info": {
      "codemirror_mode": {
        "name": "ipython",
        "version": 3
      },
      "file_extension": ".py",
      "mimetype": "text/x-python",
      "name": "python",
      "nbconvert_exporter": "python",
      "pygments_lexer": "ipython3",
      "version": "3.6.6"
    },
    "colab": {
      "provenance": [],
      "collapsed_sections": [],
      "include_colab_link": true
    }
  },
  "cells": [
    {
      "cell_type": "markdown",
      "metadata": {
        "id": "view-in-github",
        "colab_type": "text"
      },
      "source": [
        "<a href=\"https://colab.research.google.com/github/parasgupta1995/Almabetter-Capstone-project/blob/main/_telecom_churn_analysis_almabetter_capstone_project.ipynb\" target=\"_parent\"><img src=\"https://colab.research.google.com/assets/colab-badge.svg\" alt=\"Open In Colab\"/></a>"
      ]
    },
    {
      "cell_type": "markdown",
      "metadata": {
        "id": "Y06xIdG26kRF"
      },
      "source": [
        "## <b> Orange S.A., formerly France Télécom S.A., is a French multinational telecommunications corporation. The Orange Telecom's Churn Dataset, consists of cleaned customer activity data (features), along with a churn label specifying whether a customer canceled the subscription.\n",
        "\n",
        "## <b> Explore and analyze the data to discover key factors responsible for customer churn and come up with ways/recommendations to ensure customer retention. </b>"
      ]
    },
    {
      "cell_type": "code",
      "metadata": {
        "id": "FWzAcXs55CGS"
      },
      "source": [
        "import pandas as pd\n",
        "import numpy as np\n",
        "import matplotlib.pyplot as plt\n",
        "import seaborn as sns\n",
        "%matplotlib inline"
      ],
      "execution_count": 1,
      "outputs": []
    },
    {
      "cell_type": "code",
      "source": [
        "from google.colab import drive\n",
        "drive.mount('/content/drive')"
      ],
      "metadata": {
        "id": "BnmAKF8C5MYd",
        "outputId": "105a461e-c912-4a8f-c375-3b6b3b540609",
        "colab": {
          "base_uri": "https://localhost:8080/"
        }
      },
      "execution_count": 3,
      "outputs": [
        {
          "output_type": "stream",
          "name": "stdout",
          "text": [
            "Mounted at /content/drive\n"
          ]
        }
      ]
    },
    {
      "cell_type": "code",
      "source": [
        "# Telecom chrun and Region based Division of US state dataframe\n",
        "df=pd.read_csv('/content/drive/MyDrive/Capstone project data/Python project/Telecom Churn.csv')\n",
        "df2=pd.read_csv('/content/drive/MyDrive/Capstone project data/Python project/Copy of us state list regionwise - us state list regionwise.csv')"
      ],
      "metadata": {
        "id": "RU5xhawdplmh"
      },
      "execution_count": 4,
      "outputs": []
    },
    {
      "cell_type": "code",
      "source": [
        "df=df.set_index('State').join(df2.set_index('State')).fillna('South')"
      ],
      "metadata": {
        "id": "zPqEBi9MKj_L"
      },
      "execution_count": 5,
      "outputs": []
    },
    {
      "cell_type": "code",
      "source": [
        "df.reset_index(level=0, inplace=True)"
      ],
      "metadata": {
        "id": "plY_Sd5n1jiN"
      },
      "execution_count": 6,
      "outputs": []
    },
    {
      "cell_type": "code",
      "source": [
        "df['State'].unique()"
      ],
      "metadata": {
        "id": "rfLNpH9hp12y",
        "colab": {
          "base_uri": "https://localhost:8080/"
        },
        "outputId": "071c282d-03e9-4b1a-cef3-973d96af1476"
      },
      "execution_count": 7,
      "outputs": [
        {
          "output_type": "execute_result",
          "data": {
            "text/plain": [
              "array(['AK', 'AL', 'AR', 'AZ', 'CA', 'CO', 'CT', 'DC', 'DE', 'FL', 'GA',\n",
              "       'HI', 'IA', 'ID', 'IL', 'IN', 'KS', 'KY', 'LA', 'MA', 'MD', 'ME',\n",
              "       'MI', 'MN', 'MO', 'MS', 'MT', 'NC', 'ND', 'NE', 'NH', 'NJ', 'NM',\n",
              "       'NV', 'NY', 'OH', 'OK', 'OR', 'PA', 'RI', 'SC', 'SD', 'TN', 'TX',\n",
              "       'UT', 'VA', 'VT', 'WA', 'WI', 'WV', 'WY'], dtype=object)"
            ]
          },
          "metadata": {},
          "execution_count": 7
        }
      ]
    },
    {
      "cell_type": "code",
      "source": [
        "df['calls minutes']=df.apply(lambda x: x['Total day minutes']+x['Total eve minutes']+x['Total night minutes']+x['Total intl minutes'],axis=1)"
      ],
      "metadata": {
        "id": "vDaOGnnGp10B"
      },
      "execution_count": 8,
      "outputs": []
    },
    {
      "cell_type": "code",
      "source": [
        "df['Total charge']=df.apply(lambda x: x['Total day charge']+x['Total eve charge']+x['Total night charge']+x['Total intl charge'],axis=1)"
      ],
      "metadata": {
        "id": "tymQCvQxqf0H"
      },
      "execution_count": 9,
      "outputs": []
    },
    {
      "cell_type": "code",
      "source": [
        "df['number of calls']=df.apply(lambda x:x['Total day calls']+x['Total eve calls']+x['Total night calls']+x['Total intl calls']+x['Customer service calls'],axis=1)"
      ],
      "metadata": {
        "id": "8B_-hChCgIc7"
      },
      "execution_count": 10,
      "outputs": []
    },
    {
      "cell_type": "code",
      "source": [
        "df.sort_values(by='State',inplace=True,ignore_index=True)"
      ],
      "metadata": {
        "id": "Yoyw-NPycv4S"
      },
      "execution_count": 11,
      "outputs": []
    },
    {
      "cell_type": "code",
      "source": [
        "#dataframe of selected useful data only for calculating number of calls\n",
        "Number_of_calls_dataframe=df.loc[:,['State', 'Account length', 'International plan', 'Voice mail plan','Number vmail messages', 'Total day calls', 'Total eve calls','Total night calls','Total intl calls', 'Customer service calls']]"
      ],
      "metadata": {
        "id": "FFaIiHRFZbmy"
      },
      "execution_count": 12,
      "outputs": []
    },
    {
      "cell_type": "code",
      "source": [
        "#People with no international plan and still making international calls can be potential customer for International plan\n",
        "no_intl_plan_making_intlcalls=Number_of_calls_dataframe.groupby(by='International plan')['Account length'].count().reset_index()\n",
        "plt.figure(figsize=(8,8))\n",
        "sns.barplot(x='International plan',y='Account length',data=no_intl_plan_making_intlcalls,hue='International plan',dodge=False)\n",
        "plt.xlabel(\"International Plan\",size=30)\n",
        "plt.xticks(size=20)\n",
        "plt.ylabel(\"Count\",size=30)\n",
        "plt.yticks(size=20)\n",
        "plt.legend(fontsize=15)"
      ],
      "metadata": {
        "id": "cr8BC75Ha40N",
        "outputId": "bae1f07c-f94c-44e0-b1bf-0dfff72d4155",
        "colab": {
          "base_uri": "https://localhost:8080/",
          "height": 542
        }
      },
      "execution_count": 13,
      "outputs": [
        {
          "output_type": "execute_result",
          "data": {
            "text/plain": [
              "<matplotlib.legend.Legend at 0x7f30ba52e190>"
            ]
          },
          "metadata": {},
          "execution_count": 13
        },
        {
          "output_type": "display_data",
          "data": {
            "text/plain": [
              "<Figure size 576x576 with 1 Axes>"
            ],
            "image/png": "[encoded data removed]"
          },
          "metadata": {
            "needs_background": "light"
          }
        }
      ]
    },
    {
      "cell_type": "code",
      "source": [],
      "metadata": {
        "id": "99YNSLZUH5LT"
      },
      "execution_count": null,
      "outputs": []
    }
  ]
}